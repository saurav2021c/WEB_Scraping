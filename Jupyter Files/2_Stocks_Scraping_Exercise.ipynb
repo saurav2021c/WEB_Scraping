{
 "cells": [
  {
   "cell_type": "code",
   "execution_count": 1,
   "id": "9979d606",
   "metadata": {},
   "outputs": [],
   "source": [
    "#to change to any stock just replace the url to another stocks url"
   ]
  },
  {
   "cell_type": "code",
   "execution_count": 2,
   "id": "50e1042a",
   "metadata": {},
   "outputs": [],
   "source": [
    "# 1. Import the HTML into python\n",
    "import requests\n",
    "from bs4 import BeautifulSoup"
   ]
  },
  {
   "cell_type": "code",
   "execution_count": 3,
   "id": "3f106765",
   "metadata": {},
   "outputs": [],
   "source": [
    "url = 'https://www.marketwatch.com/investing/stock/aapl'\n",
    "\n",
    "page = requests.get(url)\n",
    "\n",
    "soup = BeautifulSoup(page.text, 'lxml')"
   ]
  },
  {
   "cell_type": "code",
   "execution_count": 4,
   "id": "cf7f2683",
   "metadata": {},
   "outputs": [
    {
     "data": {
      "text/plain": [
       "'191.21'"
      ]
     },
     "execution_count": 4,
     "metadata": {},
     "output_type": "execute_result"
    }
   ],
   "source": [
    "#2. get the current price of the stock\n",
    "price = soup.find('bg-quote', class_ = 'value').text\n",
    "price"
   ]
  },
  {
   "cell_type": "code",
   "execution_count": 5,
   "id": "2ba36be6",
   "metadata": {},
   "outputs": [
    {
     "data": {
      "text/plain": [
       "'$192.46 '"
      ]
     },
     "execution_count": 5,
     "metadata": {},
     "output_type": "execute_result"
    }
   ],
   "source": [
    "#3. get closing price of stock \n",
    "closing_price = soup.find('td', class_ = 'table__cell u-semi').text\n",
    "closing_price"
   ]
  },
  {
   "cell_type": "code",
   "execution_count": 6,
   "id": "00954b91",
   "metadata": {},
   "outputs": [
    {
     "data": {
      "text/plain": [
       "<mw-rangebar bar-high=\"194.48\" bar-low=\"124.17\" class=\"element element--range range--yearly\" day-open=\"193.78\" precision=\"2\" quote-channel=\"/zigman2/quotes/202934861/composite\" range-high=\"194.48\" range-low=\"124.17\">\n",
       "<div class=\"range__header\">\n",
       "<span class=\"primary\">124.17</span>\n",
       "<span class=\"secondary\">52 Week Range</span>\n",
       "<span class=\"primary\">194.48</span>\n",
       "</div>\n",
       "<div class=\"range__container\">\n",
       "<div class=\"indicator-zone\">\n",
       "<div class=\"indicator indicator--yearly\" style=\"left: 97.12700896031858910539041388%;\"></div>\n",
       "</div>\n",
       "</div>\n",
       "</mw-rangebar>"
      ]
     },
     "execution_count": 6,
     "metadata": {},
     "output_type": "execute_result"
    }
   ],
   "source": [
    "#4. 52 week range (lower, upper)\n",
    "nested = soup.find('mw-rangebar', class_ = 'element element--range range--yearly')\n",
    "nested"
   ]
  },
  {
   "cell_type": "code",
   "execution_count": 7,
   "id": "6f02bab7",
   "metadata": {},
   "outputs": [
    {
     "data": {
      "text/plain": [
       "'124.17'"
      ]
     },
     "execution_count": 7,
     "metadata": {},
     "output_type": "execute_result"
    }
   ],
   "source": [
    "lower = nested.find_all('span', class_ = 'primary')[0].text\n",
    "lower"
   ]
  },
  {
   "cell_type": "code",
   "execution_count": 8,
   "id": "3f118574",
   "metadata": {},
   "outputs": [
    {
     "data": {
      "text/plain": [
       "'194.48'"
      ]
     },
     "execution_count": 8,
     "metadata": {},
     "output_type": "execute_result"
    }
   ],
   "source": [
    "upper = nested.find_all('span', class_ = 'primary')[1].text\n",
    "upper"
   ]
  },
  {
   "cell_type": "code",
   "execution_count": 9,
   "id": "6fd81d5e",
   "metadata": {},
   "outputs": [
    {
     "data": {
      "text/plain": [
       "'Over'"
      ]
     },
     "execution_count": 9,
     "metadata": {},
     "output_type": "execute_result"
    }
   ],
   "source": [
    "#5. analyst rating\n",
    "rating = soup.find('li', class_ = 'analyst__option active').text\n",
    "rating"
   ]
  },
  {
   "cell_type": "code",
   "execution_count": null,
   "id": "c004bafb",
   "metadata": {},
   "outputs": [],
   "source": []
  }
 ],
 "metadata": {
  "kernelspec": {
   "display_name": "Python 3 (ipykernel)",
   "language": "python",
   "name": "python3"
  },
  "language_info": {
   "codemirror_mode": {
    "name": "ipython",
    "version": 3
   },
   "file_extension": ".py",
   "mimetype": "text/x-python",
   "name": "python",
   "nbconvert_exporter": "python",
   "pygments_lexer": "ipython3",
   "version": "3.11.1"
  }
 },
 "nbformat": 4,
 "nbformat_minor": 5
}
