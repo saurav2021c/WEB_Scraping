{
 "cells": [
  {
   "cell_type": "markdown",
   "id": "ff3366ad",
   "metadata": {},
   "source": [
    "##  Finding top 100 Movies of all time"
   ]
  },
  {
   "cell_type": "code",
   "execution_count": 1,
   "id": "24c9d360",
   "metadata": {},
   "outputs": [],
   "source": [
    "from selenium import webdriver\n",
    "from selenium.webdriver.common.by import By\n",
    "from selenium.webdriver.common.keys import Keys\n",
    "import time"
   ]
  },
  {
   "cell_type": "code",
   "execution_count": 2,
   "id": "8e762fa1",
   "metadata": {},
   "outputs": [],
   "source": [
    "#Starts our driver and goes to the starting webpage which is google.com\n",
    "driver = webdriver.Chrome()\n",
    "driver.get('https://www.google.com/')"
   ]
  },
  {
   "cell_type": "code",
   "execution_count": 4,
   "id": "2f798cd9",
   "metadata": {},
   "outputs": [],
   "source": [
    "#Inputs text into the google search box\n",
    "box = driver.find_element(By.XPATH, '//*[@id=\"APjFqb\"]')\n",
    "box.send_keys('Top 100 Movies of all time by IMDB')\n",
    "box.send_keys(Keys.ENTER)\n",
    "#Presses the enter button to search\n",
    "time.sleep(2)"
   ]
  },
  {
   "cell_type": "code",
   "execution_count": 5,
   "id": "249dd5ee",
   "metadata": {},
   "outputs": [],
   "source": [
    "#Presses on the link for Imdb\n",
    "driver.find_element(By.XPATH, '//*[@id=\"rso\"]/div[1]/div/div/div/div[1]/div/a/h3').click()\n",
    "#3 second wait time to let the entire page load in\n",
    "time.sleep(3)"
   ]
  },
  {
   "cell_type": "code",
   "execution_count": 7,
   "id": "a030bd33",
   "metadata": {},
   "outputs": [
    {
     "data": {
      "text/plain": [
       "11638"
      ]
     },
     "execution_count": 7,
     "metadata": {},
     "output_type": "execute_result"
    }
   ],
   "source": [
    "# To find The height of page\n",
    "driver.execute_script('return document.body.scrollHeight')"
   ]
  },
  {
   "cell_type": "code",
   "execution_count": 10,
   "id": "d7ce168e",
   "metadata": {},
   "outputs": [],
   "source": [
    "#Scrolls until Jaws the movie is on the screen\n",
    "driver.execute_script('window.scrollTo(0,8000)')"
   ]
  },
  {
   "cell_type": "code",
   "execution_count": 11,
   "id": "13c14196",
   "metadata": {},
   "outputs": [
    {
     "data": {
      "text/plain": [
       "True"
      ]
     },
     "execution_count": 11,
     "metadata": {},
     "output_type": "execute_result"
    }
   ],
   "source": [
    "#Takes a screenshot of the webpage\n",
    "driver.save_screenshot('D:\\Web Scraping\\Jupyter Files\\Screenshots\\screenshot7_38_Prestige.png')"
   ]
  },
  {
   "cell_type": "code",
   "execution_count": 12,
   "id": "c8da8274",
   "metadata": {},
   "outputs": [
    {
     "data": {
      "text/plain": [
       "True"
      ]
     },
     "execution_count": 12,
     "metadata": {},
     "output_type": "execute_result"
    }
   ],
   "source": [
    "#Takes a screenshot of the The Prestige Movie poster\n",
    "driver.find_element(By.XPATH, '//*[@id=\"main\"]/div/div[3]/div/div[38]/div[2]/a/img').screenshot('D:\\Web Scraping\\Jupyter Files\\Screenshots\\screenshot8_The_Prestige_Poster.png')"
   ]
  }
 ],
 "metadata": {
  "kernelspec": {
   "display_name": "Python 3 (ipykernel)",
   "language": "python",
   "name": "python3"
  },
  "language_info": {
   "codemirror_mode": {
    "name": "ipython",
    "version": 3
   },
   "file_extension": ".py",
   "mimetype": "text/x-python",
   "name": "python",
   "nbconvert_exporter": "python",
   "pygments_lexer": "ipython3",
   "version": "3.11.1"
  }
 },
 "nbformat": 4,
 "nbformat_minor": 5
}
