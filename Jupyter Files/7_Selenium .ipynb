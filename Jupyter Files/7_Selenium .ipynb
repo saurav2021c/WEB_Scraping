{
 "cells": [
  {
   "cell_type": "code",
   "execution_count": 90,
   "id": "05cb4fa1",
   "metadata": {},
   "outputs": [],
   "source": [
    "from selenium import webdriver\n",
    "from selenium.webdriver.common.by import By\n",
    "from selenium.webdriver.support.ui import WebDriverWait\n",
    "from selenium.webdriver.support import expected_conditions as EC\n",
    "from selenium.common.exceptions import TimeoutException"
   ]
  },
  {
   "cell_type": "code",
   "execution_count": 32,
   "id": "0dfe4b7b",
   "metadata": {},
   "outputs": [],
   "source": [
    "#Optional\n",
    "options = webdriver.ChromeOptions()\n",
    "options.add_argument(\"ignore-certificate-errors\")\n",
    "options.add_argument(\"ignore-ssl-errors\")\n",
    "\n",
    "driver = webdriver.Chrome(options=options)"
   ]
  },
  {
   "cell_type": "code",
   "execution_count": 44,
   "id": "ea74741b",
   "metadata": {},
   "outputs": [
    {
     "name": "stdout",
     "output_type": "stream",
     "text": [
      "$203\n"
     ]
    }
   ],
   "source": [
    "# For reference and optional\n",
    "from selenium.webdriver.support import expected_conditions as EC\n",
    "\n",
    "driver = webdriver.Chrome()\n",
    "driver.get('https://www.goat.com/sneakers')\n",
    "\n",
    "# Add an explicit wait to ensure element is present\n",
    "wait = WebDriverWait(driver, 10)\n",
    "element = wait.until(EC.presence_of_element_located((By.XPATH, '//*[@id=\"grid-body\"]/div/div[1]/div[2]/a/div[1]/div[2]/div/div/span')))\n",
    "\n",
    "# Switch to the new window if applicable\n",
    "driver.switch_to.window(driver.window_handles[-1])\n",
    "\n",
    "# Perform operations on the element\n",
    "print(element.text)\n"
   ]
  },
  {
   "cell_type": "code",
   "execution_count": 78,
   "id": "2fad4ebe",
   "metadata": {},
   "outputs": [],
   "source": [
    "# For clickable button on the screen\n",
    "driver = webdriver.Chrome()\n",
    "driver.get('https://www.goat.com/sneakers')\n",
    "wait = WebDriverWait(driver, 10)\n",
    "cookies = wait.until(EC.element_to_be_clickable((By.XPATH, '//*[@id=\"onetrust-accept-btn-handler\"]')))\n",
    "cookies.click()\n",
    "element = wait.until(EC.presence_of_element_located((By.XPATH, '//*[@id=\"grid-body\"]/div/div[1]/div[1]/a/div[2]/div/img')))\n",
    "element.click()"
   ]
  },
  {
   "cell_type": "code",
   "execution_count": 85,
   "id": "2858db95",
   "metadata": {},
   "outputs": [
    {
     "name": "stdout",
     "output_type": "stream",
     "text": [
      "1 : $99\n",
      "2 : $203\n",
      "3 : $226\n",
      "4 : $210\n",
      "5 : $168\n",
      "6 : $120\n",
      "7 : $73\n",
      "8 : $124\n",
      "9 : $129\n",
      "10 : $194\n",
      "11 : $124\n",
      "12 : $200\n",
      "13 : $210\n",
      "14 : $158\n",
      "15 : $213\n",
      "16 : $137\n",
      "17 : $97\n",
      "18 : $167\n",
      "19 : $82\n",
      "20 : $116\n",
      "21 : $371\n",
      "22 : $95\n",
      "23 : $159\n",
      "24 : $152\n"
     ]
    },
    {
     "ename": "TimeoutException",
     "evalue": "Message: \nStacktrace:\nBacktrace:\n\tGetHandleVerifier [0x011BA813+48355]\n\t(No symbol) [0x0114C4B1]\n\t(No symbol) [0x01055358]\n\t(No symbol) [0x010809A5]\n\t(No symbol) [0x01080B3B]\n\t(No symbol) [0x010AE232]\n\t(No symbol) [0x0109A784]\n\t(No symbol) [0x010AC922]\n\t(No symbol) [0x0109A536]\n\t(No symbol) [0x010782DC]\n\t(No symbol) [0x010793DD]\n\tGetHandleVerifier [0x0141AABD+2539405]\n\tGetHandleVerifier [0x0145A78F+2800735]\n\tGetHandleVerifier [0x0145456C+2775612]\n\tGetHandleVerifier [0x012451E0+616112]\n\t(No symbol) [0x01155F8C]\n\t(No symbol) [0x01152328]\n\t(No symbol) [0x0115240B]\n\t(No symbol) [0x01144FF7]\n\tBaseThreadInitThunk [0x763E7D59+25]\n\tRtlInitializeExceptionChain [0x77DCB74B+107]\n\tRtlClearBits [0x77DCB6CF+191]\n",
     "output_type": "error",
     "traceback": [
      "\u001b[1;31m---------------------------------------------------------------------------\u001b[0m",
      "\u001b[1;31mTimeoutException\u001b[0m                          Traceback (most recent call last)",
      "Cell \u001b[1;32mIn[85], line 5\u001b[0m\n\u001b[0;32m      3\u001b[0m wait \u001b[38;5;241m=\u001b[39m WebDriverWait(driver, \u001b[38;5;241m10\u001b[39m)\n\u001b[0;32m      4\u001b[0m \u001b[38;5;28;01mfor\u001b[39;00m i \u001b[38;5;129;01min\u001b[39;00m \u001b[38;5;28mrange\u001b[39m(\u001b[38;5;241m1\u001b[39m,\u001b[38;5;241m30\u001b[39m):\n\u001b[1;32m----> 5\u001b[0m     price \u001b[38;5;241m=\u001b[39m \u001b[43mwait\u001b[49m\u001b[38;5;241;43m.\u001b[39;49m\u001b[43muntil\u001b[49m\u001b[43m(\u001b[49m\u001b[43mEC\u001b[49m\u001b[38;5;241;43m.\u001b[39;49m\u001b[43mpresence_of_element_located\u001b[49m\u001b[43m(\u001b[49m\u001b[43m(\u001b[49m\u001b[43mBy\u001b[49m\u001b[38;5;241;43m.\u001b[39;49m\u001b[43mXPATH\u001b[49m\u001b[43m,\u001b[49m\u001b[43m \u001b[49m\u001b[38;5;124;43m'\u001b[39;49m\u001b[38;5;124;43m//*[@id=\u001b[39;49m\u001b[38;5;124;43m\"\u001b[39;49m\u001b[38;5;124;43mgrid-body\u001b[39;49m\u001b[38;5;124;43m\"\u001b[39;49m\u001b[38;5;124;43m]/div/div[1]/div[\u001b[39;49m\u001b[38;5;124;43m'\u001b[39;49m\u001b[38;5;241;43m+\u001b[39;49m\u001b[38;5;28;43mstr\u001b[39;49m\u001b[43m(\u001b[49m\u001b[43mi\u001b[49m\u001b[43m)\u001b[49m\u001b[38;5;241;43m+\u001b[39;49m\u001b[38;5;124;43m'\u001b[39;49m\u001b[38;5;124;43m]/a/div[1]/div[2]/div/div/span\u001b[39;49m\u001b[38;5;124;43m'\u001b[39;49m\u001b[43m)\u001b[49m\u001b[43m)\u001b[49m\u001b[43m)\u001b[49m\n\u001b[0;32m      6\u001b[0m     \u001b[38;5;28mprint\u001b[39m(i,\u001b[38;5;124m\"\u001b[39m\u001b[38;5;124m:\u001b[39m\u001b[38;5;124m\"\u001b[39m,price\u001b[38;5;241m.\u001b[39mtext)\n",
      "File \u001b[1;32m~\\AppData\\Local\\Programs\\Python\\Python311\\Lib\\site-packages\\selenium\\webdriver\\support\\wait.py:95\u001b[0m, in \u001b[0;36mWebDriverWait.until\u001b[1;34m(self, method, message)\u001b[0m\n\u001b[0;32m     93\u001b[0m     \u001b[38;5;28;01mif\u001b[39;00m time\u001b[38;5;241m.\u001b[39mmonotonic() \u001b[38;5;241m>\u001b[39m end_time:\n\u001b[0;32m     94\u001b[0m         \u001b[38;5;28;01mbreak\u001b[39;00m\n\u001b[1;32m---> 95\u001b[0m \u001b[38;5;28;01mraise\u001b[39;00m TimeoutException(message, screen, stacktrace)\n",
      "\u001b[1;31mTimeoutException\u001b[0m: Message: \nStacktrace:\nBacktrace:\n\tGetHandleVerifier [0x011BA813+48355]\n\t(No symbol) [0x0114C4B1]\n\t(No symbol) [0x01055358]\n\t(No symbol) [0x010809A5]\n\t(No symbol) [0x01080B3B]\n\t(No symbol) [0x010AE232]\n\t(No symbol) [0x0109A784]\n\t(No symbol) [0x010AC922]\n\t(No symbol) [0x0109A536]\n\t(No symbol) [0x010782DC]\n\t(No symbol) [0x010793DD]\n\tGetHandleVerifier [0x0141AABD+2539405]\n\tGetHandleVerifier [0x0145A78F+2800735]\n\tGetHandleVerifier [0x0145456C+2775612]\n\tGetHandleVerifier [0x012451E0+616112]\n\t(No symbol) [0x01155F8C]\n\t(No symbol) [0x01152328]\n\t(No symbol) [0x0115240B]\n\t(No symbol) [0x01144FF7]\n\tBaseThreadInitThunk [0x763E7D59+25]\n\tRtlInitializeExceptionChain [0x77DCB74B+107]\n\tRtlClearBits [0x77DCB6CF+191]\n"
     ]
    }
   ],
   "source": [
    "#For getting specific item string from web page with timeout error\n",
    "driver = webdriver.Chrome()\n",
    "driver.get('https://www.goat.com/sneakers')\n",
    "wait = WebDriverWait(driver, 10)\n",
    "for i in range(1,30):\n",
    "    price = wait.until(EC.presence_of_element_located((By.XPATH, '//*[@id=\"grid-body\"]/div/div[1]/div['+str(i)+']/a/div[1]/div[2]/div/div/span')))\n",
    "    print(i,\":\",price.text)"
   ]
  },
  {
   "cell_type": "code",
   "execution_count": 94,
   "id": "1a202338",
   "metadata": {},
   "outputs": [
    {
     "name": "stdout",
     "output_type": "stream",
     "text": [
      "1 : $99\n",
      "2 : $203\n",
      "3 : $226\n",
      "4 : $210\n",
      "5 : $168\n",
      "6 : $120\n",
      "7 : $73\n",
      "8 : $124\n",
      "9 : $129\n",
      "10 : $194\n",
      "11 : $124\n",
      "12 : $200\n",
      "13 : $210\n",
      "14 : $158\n",
      "15 : $213\n",
      "16 : $137\n",
      "17 : $97\n",
      "18 : $167\n",
      "19 : $82\n",
      "20 : $116\n",
      "21 : $371\n",
      "22 : $95\n",
      "23 : $159\n",
      "24 : $152\n",
      "Timeout occurred for element at index 25\n"
     ]
    }
   ],
   "source": [
    "#For timeout exceptions\n",
    "from selenium.common.exceptions import TimeoutException\n",
    "\n",
    "wait = WebDriverWait(driver, 10)  # Increase the timeout to 20 seconds if needed\n",
    "\n",
    "for i in range(1, 30):\n",
    "    try:\n",
    "        price = wait.until(EC.visibility_of_element_located((By.XPATH, '//*[@id=\"grid-body\"]/div/div[1]/div['+str(i)+']/a/div[1]/div[2]/div/div/span')))\n",
    "        print(i, \":\", price.text)\n",
    "    except TimeoutException:\n",
    "        print(f\"Timeout occurred for element at index {i}\")\n",
    "        break"
   ]
  },
  {
   "cell_type": "code",
   "execution_count": 96,
   "id": "9af9b63a",
   "metadata": {},
   "outputs": [
    {
     "data": {
      "text/plain": [
       "'$203'"
      ]
     },
     "execution_count": 96,
     "metadata": {},
     "output_type": "execute_result"
    }
   ],
   "source": [
    "driver = webdriver.Chrome()\n",
    "driver.get('https://www.goat.com/sneakers')\n",
    "driver.find_element(By.XPATH, '//*[@id=\"grid-body\"]/div/div[1]/div[2]/a/div[1]/div[2]/div/div/span').text"
   ]
  },
  {
   "cell_type": "markdown",
   "id": "b55ce3a2",
   "metadata": {},
   "source": [
    "# INPUT through Selenium"
   ]
  },
  {
   "cell_type": "code",
   "execution_count": 115,
   "id": "c5158d3a",
   "metadata": {},
   "outputs": [],
   "source": [
    "from selenium import webdriver\n",
    "from selenium.webdriver.common.keys import Keys\n",
    "\n",
    "driver = webdriver.Chrome()\n",
    "driver.get('https://www.google.com/')\n",
    "\n",
    "box = driver.find_element(By.XPATH, '//*[@id=\"APjFqb\"]')\n",
    "box.send_keys(\"Find Image of Saurav Singh from TCET Data Analyst\")\n",
    "box.send_keys(Keys.ENTER)\n",
    "driver.find_element(By.XPATH, '//*[@id=\"rso\"]/div[1]/div/div/div/div[1]/div/div/div[1]/div/a/h3').click()\n",
    "driver.find_element(By.XPATH, '//*[@id=\"main-content\"]/section[1]/div/section/section[1]/div/div[1]/img').screenshot('D:\\Web Scraping\\Jupyter Files\\Screenshots\\screenshot4.png')\n",
    "screenshot = driver.save_screenshot('D:\\Web Scraping\\Jupyter Files\\Screenshots\\screenshot4.png')\n"
   ]
  },
  {
   "cell_type": "code",
   "execution_count": 106,
   "id": "999ab2e4",
   "metadata": {},
   "outputs": [],
   "source": [
    "driver = webdriver.Chrome()\n",
    "driver.get('https://www.google.com/')"
   ]
  },
  {
   "cell_type": "code",
   "execution_count": 107,
   "id": "17fcc1d6",
   "metadata": {},
   "outputs": [],
   "source": [
    "box = driver.find_element(By.XPATH, '//*[@id=\"APjFqb\"]')\n",
    "box.send_keys(\"Find Image of Saurav Singh from TCET Data Analyst\")"
   ]
  },
  {
   "cell_type": "code",
   "execution_count": 118,
   "id": "aad6d7a7",
   "metadata": {},
   "outputs": [],
   "source": [
    "#Full EXAMPLE of taking screenshot of my image\n",
    "driver = webdriver.Chrome()\n",
    "driver.get('https://www.google.com/')\n",
    "\n",
    "box = driver.find_element(By.XPATH, '//*[@id=\"APjFqb\"]')\n",
    "box.send_keys(\"Find Image of Saurav Singh from TCET Data Analyst\")\n",
    "box.send_keys(Keys.ENTER)\n",
    "driver.find_element(By.XPATH, '//*[@id=\"cnt\"]/div[5]/div/div/div[1]/div[1]/div/a[2]/div').click()\n",
    "driver.find_element(By.XPATH, '//*[@id=\"islrg\"]/div[1]/div[1]/a[1]/div[1]/img').screenshot('D:\\Web Scraping\\Jupyter Files\\Screenshots\\screenshot6.png')\n",
    "screenshot = driver.save_screenshot('D:\\Web Scraping\\Jupyter Files\\Screenshots\\screenshot7.png')\n"
   ]
  },
  {
   "cell_type": "markdown",
   "id": "31ea30ca",
   "metadata": {},
   "source": [
    "# Self Scrolling"
   ]
  },
  {
   "cell_type": "code",
   "execution_count": 123,
   "id": "88a945a2",
   "metadata": {},
   "outputs": [],
   "source": [
    "driver = webdriver.Chrome()\n",
    "driver.get('https://www.google.com/')\n",
    "\n",
    "box = driver.find_element(By.XPATH, '//*[@id=\"APjFqb\"]')\n",
    "box.send_keys(\"girraffe\")\n",
    "box.send_keys(Keys.ENTER)\n",
    "driver.find_element(By.XPATH, '//*[@id=\"cnt\"]/div[5]/div/div/div[1]/div[1]/div/a[1]/div').click()"
   ]
  },
  {
   "cell_type": "code",
   "execution_count": 124,
   "id": "058d6d07",
   "metadata": {},
   "outputs": [
    {
     "data": {
      "text/plain": [
       "29058"
      ]
     },
     "execution_count": 124,
     "metadata": {},
     "output_type": "execute_result"
    }
   ],
   "source": [
    "driver.execute_script('return document.body.scrollHeight')\n"
   ]
  },
  {
   "cell_type": "code",
   "execution_count": 125,
   "id": "b46a1de4",
   "metadata": {},
   "outputs": [],
   "source": [
    "driver.execute_script('window.scrollTo(0,6000)')"
   ]
  },
  {
   "cell_type": "code",
   "execution_count": 128,
   "id": "75420713",
   "metadata": {},
   "outputs": [],
   "source": [
    "driver.execute_script('window.scrollTo(0,document.body.scrollHeight)')"
   ]
  },
  {
   "cell_type": "code",
   "execution_count": 131,
   "id": "d2767075",
   "metadata": {},
   "outputs": [],
   "source": [
    "while True:\n",
    "    driver.execute_script('window.scrollTo(0,document.body.scrollHeight)')\n",
    "    last = driver.find_element(By.XPATH, '//*[@id=\"islmp\"]/div/div/div/div/div[1]/div[2]/div[1]/div[2]/div[1]/div').text\n",
    "    if last == \"Looks like you've reached the end\":\n",
    "        break"
   ]
  },
  {
   "cell_type": "markdown",
   "id": "f36560fb",
   "metadata": {},
   "source": [
    "# Wait Times"
   ]
  },
  {
   "cell_type": "code",
   "execution_count": 132,
   "id": "1b7a4109",
   "metadata": {},
   "outputs": [],
   "source": [
    "driver = webdriver.Chrome()\n",
    "driver.get('https://www.google.com/')\n",
    "\n",
    "box = driver.find_element(By.XPATH, '//*[@id=\"APjFqb\"]')\n",
    "box.send_keys(\"girraffe\")\n",
    "box.send_keys(Keys.ENTER)\n",
    "driver.find_element(By.XPATH, '//*[@id=\"cnt\"]/div[5]/div/div/div[1]/div[1]/div/a[1]/div').click()"
   ]
  },
  {
   "cell_type": "code",
   "execution_count": 133,
   "id": "63ed339a",
   "metadata": {},
   "outputs": [],
   "source": [
    "from selenium.webdriver.common.by import By\n",
    "from selenium.webdriver.support.ui import WebDriverWait\n",
    "from selenium.webdriver.support import expected_conditions as EC"
   ]
  },
  {
   "cell_type": "code",
   "execution_count": 143,
   "id": "b06308fe",
   "metadata": {},
   "outputs": [
    {
     "ename": "TimeoutException",
     "evalue": "Message: \nStacktrace:\nBacktrace:\n\tGetHandleVerifier [0x011BA813+48355]\n\t(No symbol) [0x0114C4B1]\n\t(No symbol) [0x01055358]\n\t(No symbol) [0x010809A5]\n\t(No symbol) [0x01080B3B]\n\t(No symbol) [0x010AE232]\n\t(No symbol) [0x0109A784]\n\t(No symbol) [0x010AC922]\n\t(No symbol) [0x0109A536]\n\t(No symbol) [0x010782DC]\n\t(No symbol) [0x010793DD]\n\tGetHandleVerifier [0x0141AABD+2539405]\n\tGetHandleVerifier [0x0145A78F+2800735]\n\tGetHandleVerifier [0x0145456C+2775612]\n\tGetHandleVerifier [0x012451E0+616112]\n\t(No symbol) [0x01155F8C]\n\t(No symbol) [0x01152328]\n\t(No symbol) [0x0115240B]\n\t(No symbol) [0x01144FF7]\n\tBaseThreadInitThunk [0x763E7D59+25]\n\tRtlInitializeExceptionChain [0x77DCB74B+107]\n\tRtlClearBits [0x77DCB6CF+191]\n",
     "output_type": "error",
     "traceback": [
      "\u001b[1;31m---------------------------------------------------------------------------\u001b[0m",
      "\u001b[1;31mTimeoutException\u001b[0m                          Traceback (most recent call last)",
      "Cell \u001b[1;32mIn[143], line 5\u001b[0m\n\u001b[0;32m      2\u001b[0m box\u001b[38;5;241m.\u001b[39msend_keys(\u001b[38;5;124m\"\u001b[39m\u001b[38;5;124mgirraffe\u001b[39m\u001b[38;5;124m\"\u001b[39m)\n\u001b[0;32m      3\u001b[0m box\u001b[38;5;241m.\u001b[39msend_keys(Keys\u001b[38;5;241m.\u001b[39mENTER)\n\u001b[1;32m----> 5\u001b[0m element \u001b[38;5;241m=\u001b[39m \u001b[43mWebDriverWait\u001b[49m\u001b[43m(\u001b[49m\u001b[43mdriver\u001b[49m\u001b[43m,\u001b[49m\u001b[38;5;241;43m10\u001b[39;49m\u001b[43m)\u001b[49m\u001b[38;5;241;43m.\u001b[39;49m\u001b[43muntil\u001b[49m\u001b[43m(\u001b[49m\n\u001b[0;32m      6\u001b[0m \u001b[43m          \u001b[49m\u001b[43mEC\u001b[49m\u001b[38;5;241;43m.\u001b[39;49m\u001b[43mpresence_of_element_located\u001b[49m\u001b[43m(\u001b[49m\u001b[43m(\u001b[49m\u001b[43mBy\u001b[49m\u001b[38;5;241;43m.\u001b[39;49m\u001b[43mXPATH\u001b[49m\u001b[43m,\u001b[49m\u001b[43m \u001b[49m\u001b[38;5;124;43m'\u001b[39;49m\u001b[38;5;124;43m//*[@id=\u001b[39;49m\u001b[38;5;124;43m\"\u001b[39;49m\u001b[38;5;124;43mabss-dropdown_1\u001b[39;49m\u001b[38;5;124;43m\"\u001b[39;49m\u001b[38;5;124;43m]/ol/li/div/span/g-popup/div[1]/div/g-dropdown-button/g-dropdown-menu-button-caption/span/div/span/svg/path\u001b[39;49m\u001b[38;5;124;43m'\u001b[39;49m\u001b[43m)\u001b[49m\u001b[43m)\u001b[49m\u001b[43m)\u001b[49m\n\u001b[0;32m      8\u001b[0m driver\u001b[38;5;241m.\u001b[39mfind_element(By\u001b[38;5;241m.\u001b[39mXPATH, \u001b[38;5;124m'\u001b[39m\u001b[38;5;124m//*[@id=\u001b[39m\u001b[38;5;124m\"\u001b[39m\u001b[38;5;124mcnt\u001b[39m\u001b[38;5;124m\"\u001b[39m\u001b[38;5;124m]/div[5]/div/div/div[1]/div[1]/div/a[1]/div\u001b[39m\u001b[38;5;124m'\u001b[39m)\u001b[38;5;241m.\u001b[39mclick()\n",
      "File \u001b[1;32m~\\AppData\\Local\\Programs\\Python\\Python311\\Lib\\site-packages\\selenium\\webdriver\\support\\wait.py:95\u001b[0m, in \u001b[0;36mWebDriverWait.until\u001b[1;34m(self, method, message)\u001b[0m\n\u001b[0;32m     93\u001b[0m     \u001b[38;5;28;01mif\u001b[39;00m time\u001b[38;5;241m.\u001b[39mmonotonic() \u001b[38;5;241m>\u001b[39m end_time:\n\u001b[0;32m     94\u001b[0m         \u001b[38;5;28;01mbreak\u001b[39;00m\n\u001b[1;32m---> 95\u001b[0m \u001b[38;5;28;01mraise\u001b[39;00m TimeoutException(message, screen, stacktrace)\n",
      "\u001b[1;31mTimeoutException\u001b[0m: Message: \nStacktrace:\nBacktrace:\n\tGetHandleVerifier [0x011BA813+48355]\n\t(No symbol) [0x0114C4B1]\n\t(No symbol) [0x01055358]\n\t(No symbol) [0x010809A5]\n\t(No symbol) [0x01080B3B]\n\t(No symbol) [0x010AE232]\n\t(No symbol) [0x0109A784]\n\t(No symbol) [0x010AC922]\n\t(No symbol) [0x0109A536]\n\t(No symbol) [0x010782DC]\n\t(No symbol) [0x010793DD]\n\tGetHandleVerifier [0x0141AABD+2539405]\n\tGetHandleVerifier [0x0145A78F+2800735]\n\tGetHandleVerifier [0x0145456C+2775612]\n\tGetHandleVerifier [0x012451E0+616112]\n\t(No symbol) [0x01155F8C]\n\t(No symbol) [0x01152328]\n\t(No symbol) [0x0115240B]\n\t(No symbol) [0x01144FF7]\n\tBaseThreadInitThunk [0x763E7D59+25]\n\tRtlInitializeExceptionChain [0x77DCB74B+107]\n\tRtlClearBits [0x77DCB6CF+191]\n"
     ]
    }
   ],
   "source": [
    "box = driver.find_element(By.XPATH, '//*[@id=\"APjFqb\"]')\n",
    "box.send_keys(\"girraffe\")\n",
    "box.send_keys(Keys.ENTER)\n",
    "\n",
    "element = WebDriverWait(driver,10).until(\n",
    "          EC.presence_of_element_located((By.XPATH, '//*[@id=\"abss-dropdown_1\"]/ol/li/div/span/g-popup/div[1]/div/g-dropdown-button/g-dropdown-menu-button-caption/span/div/span/svg/path')))\n",
    "\n",
    "driver.find_element(By.XPATH, '//*[@id=\"cnt\"]/div[5]/div/div/div[1]/div[1]/div/a[1]/div').click()"
   ]
  },
  {
   "cell_type": "code",
   "execution_count": 150,
   "id": "19b36e59",
   "metadata": {},
   "outputs": [
    {
     "name": "stdout",
     "output_type": "stream",
     "text": [
      "Timeout occurred for element and ID NOT found \n"
     ]
    }
   ],
   "source": [
    "from selenium.common.exceptions import TimeoutException\n",
    "\n",
    "wait = WebDriverWait(driver, 10)  # Increase the timeout to 20 seconds if needed\n",
    "\n",
    "try:\n",
    "    box = driver.find_element(By.XPATH, '//*[@id=\"APjFqb\"]')\n",
    "    box.send_keys(\"girraffe\")\n",
    "    box.send_keys(Keys.ENTER)\n",
    "\n",
    "    element = wait.until(\n",
    "          EC.presence_of_element_located((By.XPATH, '//*[@id=\"abss-dropdown_1\"]/ol/li/div/span/g-popup/div[1]/div/g-dropdown-button/g-dropdown-menu-button-caption/span/div/span/svg/path')))\n",
    "    driver.find_element(By.XPATH, '//*[@id=\"cnt\"]/div[5]/div/div/div[1]/div[1]/div/a[1]/div').click()\n",
    "except TimeoutException:\n",
    "    print(\"Timeout occurred for element and ID NOT found \")\n",
    "        "
   ]
  },
  {
   "cell_type": "code",
   "execution_count": 153,
   "id": "72672a50",
   "metadata": {},
   "outputs": [],
   "source": [
    "import time\n",
    "box = driver.find_element(By.XPATH, '//*[@id=\"APjFqb\"]')\n",
    "box.send_keys(\"girraffe\")\n",
    "box.send_keys(Keys.ENTER)\n",
    "time.sleep(5)\n",
    "driver.find_element(By.XPATH, '//*[@id=\"cnt\"]/div[5]/div/div/div[1]/div[1]/div/a[1]/div').click()"
   ]
  },
  {
   "cell_type": "code",
   "execution_count": null,
   "id": "d752f2c5",
   "metadata": {},
   "outputs": [],
   "source": []
  }
 ],
 "metadata": {
  "kernelspec": {
   "display_name": "Python 3 (ipykernel)",
   "language": "python",
   "name": "python3"
  },
  "language_info": {
   "codemirror_mode": {
    "name": "ipython",
    "version": 3
   },
   "file_extension": ".py",
   "mimetype": "text/x-python",
   "name": "python",
   "nbconvert_exporter": "python",
   "pygments_lexer": "ipython3",
   "version": "3.11.1"
  }
 },
 "nbformat": 4,
 "nbformat_minor": 5
}
