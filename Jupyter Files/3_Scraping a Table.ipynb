{
 "cells": [
  {
   "cell_type": "code",
   "execution_count": 1,
   "id": "87fd44e7",
   "metadata": {},
   "outputs": [],
   "source": [
    "import requests\n",
    "from bs4 import BeautifulSoup\n",
    "import pandas as pd"
   ]
  },
  {
   "cell_type": "code",
   "execution_count": 3,
   "id": "037be226",
   "metadata": {},
   "outputs": [],
   "source": [
    "#Imports the HTML into python\n",
    "url = 'https://www.worldometers.info/world-population/'\n",
    "requests.get(url)\n",
    "page = requests.get(url)\n",
    "soup = BeautifulSoup(page.text, 'lxml')"
   ]
  },
  {
   "cell_type": "code",
   "execution_count": 4,
   "id": "e31a575c",
   "metadata": {},
   "outputs": [],
   "source": [
    "#Subsets the HTML to only get the HTML of our table needed\n",
    "table = soup.find('table', class_ = 'table table-striped table-bordered table-hover table-condensed table-list')"
   ]
  },
  {
   "cell_type": "code",
   "execution_count": 5,
   "id": "e4cc29c9",
   "metadata": {},
   "outputs": [],
   "source": [
    "#Gets all the column headers of our table\n",
    "headers = []\n",
    "for i in table.find_all('th'):\n",
    "    title = i.text.strip()\n",
    "    headers.append(title)"
   ]
  },
  {
   "cell_type": "code",
   "execution_count": 6,
   "id": "0fee201a",
   "metadata": {},
   "outputs": [],
   "source": [
    "#Creates a dataframe using the column headers from our table\n",
    "df = pd.DataFrame(columns = headers)"
   ]
  },
  {
   "cell_type": "code",
   "execution_count": 7,
   "id": "4a2c557c",
   "metadata": {},
   "outputs": [],
   "source": [
    "#gets all our data within the table and adds it to our dataframe\n",
    "for j in table.find_all('tr')[1:]:\n",
    "    row_data = j.find_all('td')\n",
    "    row = [tr.text for tr in row_data]\n",
    "    length = len(df)\n",
    "    df.loc[length] = row"
   ]
  },
  {
   "cell_type": "code",
   "execution_count": 8,
   "id": "618e9903",
   "metadata": {},
   "outputs": [],
   "source": [
    "#exports the data as a csv\n",
    "df.to_csv('D:\\Web Scraping\\Jupyter Files\\populations.csv')"
   ]
  },
  {
   "cell_type": "code",
   "execution_count": null,
   "id": "85419b7a",
   "metadata": {},
   "outputs": [],
   "source": []
  }
 ],
 "metadata": {
  "kernelspec": {
   "display_name": "Python 3 (ipykernel)",
   "language": "python",
   "name": "python3"
  },
  "language_info": {
   "codemirror_mode": {
    "name": "ipython",
    "version": 3
   },
   "file_extension": ".py",
   "mimetype": "text/x-python",
   "name": "python",
   "nbconvert_exporter": "python",
   "pygments_lexer": "ipython3",
   "version": "3.11.1"
  }
 },
 "nbformat": 4,
 "nbformat_minor": 5
}
