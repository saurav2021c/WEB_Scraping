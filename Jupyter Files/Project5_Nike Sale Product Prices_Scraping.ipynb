{
 "cells": [
  {
   "cell_type": "code",
   "execution_count": 1,
   "id": "cb8122c9",
   "metadata": {},
   "outputs": [],
   "source": [
    "from selenium import webdriver\n",
    "from bs4 import BeautifulSoup\n",
    "import pandas as pd\n",
    "import time"
   ]
  },
  {
   "cell_type": "code",
   "execution_count": 2,
   "id": "39b2e055",
   "metadata": {},
   "outputs": [],
   "source": [
    "#Starts the driver and goes to our starting webpage\n",
    "driver = webdriver.Chrome()\n",
    "driver.get('https://www.nike.com/in/w/sale-3yaep')"
   ]
  },
  {
   "cell_type": "code",
   "execution_count": 3,
   "id": "38dd0dc9",
   "metadata": {},
   "outputs": [],
   "source": [
    "#Will keep scrolling down the webpage until it cannot scroll no more\n",
    "last_height = driver.execute_script('return document.body.scrollHeight')\n",
    "\n",
    "while True:\n",
    "    driver.execute_script('window.scrollTo(0, document.body.scrollHeight)')\n",
    "    time.sleep(2)\n",
    "    new_height = driver.execute_script('return document.body.scrollHeight')\n",
    "    if new_height == last_height:\n",
    "        break\n",
    "    last_height = new_height"
   ]
  },
  {
   "cell_type": "code",
   "execution_count": 4,
   "id": "35d1dfb9",
   "metadata": {},
   "outputs": [
    {
     "name": "stdout",
     "output_type": "stream",
     "text": [
      "75096\n"
     ]
    }
   ],
   "source": [
    "print(last_height)"
   ]
  },
  {
   "cell_type": "code",
   "execution_count": 5,
   "id": "2aa2c737",
   "metadata": {},
   "outputs": [],
   "source": [
    "#Imports the HTML of the webpage into python  \n",
    "soup = BeautifulSoup(driver.page_source, 'lxml')"
   ]
  },
  {
   "cell_type": "code",
   "execution_count": 6,
   "id": "3c0e5fac",
   "metadata": {},
   "outputs": [],
   "source": [
    "#grabs the HTML of each product\n",
    "product_card = soup.find_all('div', class_ = 'product-card__body')"
   ]
  },
  {
   "cell_type": "code",
   "execution_count": 13,
   "id": "de9b7c03",
   "metadata": {},
   "outputs": [],
   "source": [
    "#Creates a dataframe\n",
    "df = pd.DataFrame({'Link':[''], 'Name':[''], 'Subtitle':[''], 'Price':[''], 'Sale Price':['']})"
   ]
  },
  {
   "cell_type": "code",
   "execution_count": null,
   "id": "157f6963",
   "metadata": {},
   "outputs": [],
   "source": [
    "#Grabs the product details for every product on the page and adds each product as a row in our dataframe\n",
    "for product in product_card:\n",
    "    try:\n",
    "        link = product.find('a', class_ = 'product-card__link-overlay').get('href')\n",
    "        name = product.find('div', class_ = 'product-card__title').text\n",
    "        subtitle = product.find('div', class_ = 'product-card__subtitle').text\n",
    "        full_price = product.find('div', class_ = 'product-price in__styling is--striked-out css-0').text\n",
    "        sale_price = product.find('div', class_ = 'product-price is--current-price css-1ydfahe').text\n",
    "        df = df.append({'Link':link, 'Name':name, 'Subtitle':subtitle, 'Price':full_price, 'Sale Price':sale_price}, ignore_index = True)\n",
    "    except:\n",
    "        pass"
   ]
  },
  {
   "cell_type": "code",
   "execution_count": null,
   "id": "61dae120",
   "metadata": {},
   "outputs": [],
   "source": [
    "#Run the whole code at Once to see Automation\n",
    "driver = webdriver.Chrome()\n",
    "driver.get('https://www.nike.com/in/w/sale-3yaep')\n",
    "\n",
    "last_height = driver.execute_script('return document.body.scrollHeight')\n",
    "while True:\n",
    "    driver.execute_script('window.scrollTo(0, document.body.scrollHeight)')\n",
    "    time.sleep(2)\n",
    "    new_height = driver.execute_script('return document.body.scrollHeight')\n",
    "    if new_height == last_height:\n",
    "        break\n",
    "    last_height = new_height\n",
    "    \n",
    "soup = BeautifulSoup(driver.page_source, 'lxml')\n",
    "product_card = soup.find_all('div', class_ = 'product-card__body')\n",
    "df = pd.DataFrame({'Link':[''], 'Name':[''], 'Subtitle':[''], 'Price':[''], 'Sale Price':['']})\n",
    "for product in product_card:\n",
    "    try:\n",
    "        link = product.find('a', class_ = 'product-card__link-overlay').get('href')\n",
    "        name = product.find('div', class_ = 'product-card__title').text\n",
    "        subtitle = product.find('div', class_ = 'product-card__subtitle').text\n",
    "        full_price = product.find('div', class_ = 'product-price in__styling is--striked-out css-0').text\n",
    "        sale_price = product.find('div', class_ = 'product-price is--current-price css-1ydfahe').text\n",
    "        df = df.append({'Link':link, 'Name':name, 'Subtitle':subtitle, 'Price':full_price, 'Sale Price':sale_price}, ignore_index = True)\n",
    "    except:\n",
    "        pass\n"
   ]
  },
  {
   "cell_type": "code",
   "execution_count": 15,
   "id": "2b495a29",
   "metadata": {},
   "outputs": [],
   "source": [
    "#exports the data as a csv\n",
    "df.to_csv('D:\\\\Web Scraping\\\\Jupyter Files\\\\csv_files\\\\Nike Sales Prices.csv')"
   ]
  },
  {
   "cell_type": "code",
   "execution_count": null,
   "id": "fd5bd024",
   "metadata": {},
   "outputs": [],
   "source": []
  }
 ],
 "metadata": {
  "kernelspec": {
   "display_name": "Python 3 (ipykernel)",
   "language": "python",
   "name": "python3"
  },
  "language_info": {
   "codemirror_mode": {
    "name": "ipython",
    "version": 3
   },
   "file_extension": ".py",
   "mimetype": "text/x-python",
   "name": "python",
   "nbconvert_exporter": "python",
   "pygments_lexer": "ipython3",
   "version": "3.11.1"
  }
 },
 "nbformat": 4,
 "nbformat_minor": 5
}
